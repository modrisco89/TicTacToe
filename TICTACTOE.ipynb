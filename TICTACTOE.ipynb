{
 "cells": [
  {
   "cell_type": "code",
   "execution_count": 7,
   "metadata": {},
   "outputs": [],
   "source": [
    "from IPython.display import clear_output\n",
    "\n",
    "def display_board(board):\n",
    "    print(board[1]+'¦'+board[2]+'¦'+board[3])\n",
    "    print(\"-----\")\n",
    "    print(board[4]+'¦'+board[5]+'¦'+board[6])\n",
    "    print(\"-----\")\n",
    "    print(board[7]+'¦'+board[8]+'¦'+board[9])"
   ]
  },
  {
   "cell_type": "code",
   "execution_count": 8,
   "metadata": {},
   "outputs": [],
   "source": [
    "test_board = ['#',' ',' ',' ',' ',' ',' ',' ',' ',' ']\n"
   ]
  },
  {
   "cell_type": "code",
   "execution_count": null,
   "metadata": {},
   "outputs": [],
   "source": []
  },
  {
   "cell_type": "code",
   "execution_count": 9,
   "metadata": {},
   "outputs": [],
   "source": [
    "def number_choice(x):\n",
    "    import time\n",
    "    playerchoice = 0\n",
    "    while playerchoice not in range(1,10):\n",
    "        playerchoice = int(input(x+\" please select a number between 1 to 9 \"))\n",
    "        time.sleep(2)\n",
    "        clear_output()\n",
    "        if playerchoice in range(1,10) and test_board[playerchoice] == ' ':\n",
    "            test_board[playerchoice] = x\n",
    "            display_board(test_board)\n",
    "            break\n",
    "        if test_board[playerchoice] != ' ':\n",
    "            playerchoice = int(input(x+\" please select a different number.. \"))\n",
    "            test_board[playerchoice] = x\n",
    "            display_board(test_board)\n",
    "            break"
   ]
  },
  {
   "cell_type": "code",
   "execution_count": 10,
   "metadata": {},
   "outputs": [],
   "source": [
    "def winner_check(x):\n",
    "\n",
    "    if test_board[1] == x and test_board[5] == x and test_board[9] == x:\n",
    "        print(x+\" wins!\")\n",
    "        return True\n",
    "    elif test_board[3] == x and test_board[5] == x and test_board[7] == x:\n",
    "        print(x+\" wins!\")\n",
    "        return True\n",
    "    elif test_board[1] == x and test_board[2] == x and test_board[3] == x:\n",
    "        print(x+\" wins!\")\n",
    "        return True\n",
    "    elif test_board[4] == x and test_board[5] == x and test_board[6] == x:\n",
    "        print(x+\" wins!\")\n",
    "        return True\n",
    "    elif test_board[7] == x and test_board[8] == x and test_board[9] == x:\n",
    "        print(x+\" wins!\")\n",
    "        return True\n",
    "    elif test_board[1] == x and test_board[4] == x and test_board[7] == x:\n",
    "        print(x+\" wins!\")\n",
    "        return True\n",
    "    elif test_board[2] == x and test_board[5] == x and test_board[8] == x:\n",
    "        print(x+\" wins!\")\n",
    "        return True\n",
    "    elif test_board[3] == x and test_board[6] == x and test_board[9] == x:\n",
    "        print(x+\" wins!\")\n",
    "        return True\n",
    "    elif \" \" not in test_board:\n",
    "        print(\"DRAW!\")\n",
    "        return True"
   ]
  },
  {
   "cell_type": "code",
   "execution_count": 11,
   "metadata": {},
   "outputs": [],
   "source": [
    "def player_choice():\n",
    "    from IPython.display import clear_output\n",
    "    import time\n",
    "    player1 = \" \"\n",
    "    playagain = \" \"\n",
    "    global test_board\n",
    "    while player1 != \"X\" or player1 != \"O\":\n",
    "        player1 = input(\"Player 1, please select 'X' or 'O'  \")\n",
    "        time.sleep(2)\n",
    "        clear_output()\n",
    "        if player1 == \"X\":\n",
    "            player2 = \"O\"\n",
    "            print(\"Player 1 is 'X' and Player 2 is 'O'\")\n",
    "            print(\" \")\n",
    "            print(\"Select a number below\")\n",
    "            print(\" \")\n",
    "            while \" \" in test_board:\n",
    "                number_choice(player1)\n",
    "                if winner_check(player1):\n",
    "                    break\n",
    "                if winner_check(player2):\n",
    "                    break\n",
    "                number_choice(player2)\n",
    "                if winner_check(player1):\n",
    "                    break\n",
    "                if winner_check(player2):\n",
    "                    break\n",
    "            break\n",
    "        if player1 == \"O\":\n",
    "            player2 = \"X\"\n",
    "            print(\"Player 1 is 'O' and Player 2 is 'X'\")\n",
    "            print(\" \")\n",
    "            print(\"Select a number below\")\n",
    "            print(\" \")\n",
    "            while \" \" in test_board:\n",
    "                number_choice(player1)\n",
    "                if winner_check(player1):\n",
    "                    break\n",
    "                if winner_check(player2):\n",
    "                    break\n",
    "                number_choice(player2)\n",
    "                if winner_check(player1):\n",
    "                    break\n",
    "                if winner_check(player2):\n",
    "                    break\n",
    "            break\n",
    "    while playagain != \"Y\" or playagain != \"N\":\n",
    "        \n",
    "        if playagain == \"Y\":\n",
    "            clear_output()\n",
    "            test_board = ['#',' ',' ',' ',' ',' ',' ',' ',' ',' ']\n",
    "            player_choice()\n",
    "        if playagain == \"N\":\n",
    "            clear_output()\n",
    "            test_board = ['#',' ',' ',' ',' ',' ',' ',' ',' ',' ']\n",
    "            print(\"Goodbye\")\n",
    "            time.sleep(5)\n",
    "            break \n",
    "        playagain = input(\"Would you like to play again Y or N?\")\n",
    "    clear_output()"
   ]
  },
  {
   "cell_type": "code",
   "execution_count": 12,
   "metadata": {},
   "outputs": [],
   "source": [
    "player_choice()\n"
   ]
  },
  {
   "cell_type": "markdown",
   "metadata": {},
   "source": [
    "\n"
   ]
  },
  {
   "cell_type": "code",
   "execution_count": null,
   "metadata": {},
   "outputs": [],
   "source": []
  }
 ],
 "metadata": {
  "kernelspec": {
   "display_name": "Python 3",
   "language": "python",
   "name": "python3"
  },
  "language_info": {
   "codemirror_mode": {
    "name": "ipython",
    "version": 3
   },
   "file_extension": ".py",
   "mimetype": "text/x-python",
   "name": "python",
   "nbconvert_exporter": "python",
   "pygments_lexer": "ipython3",
   "version": "3.8.5"
  }
 },
 "nbformat": 4,
 "nbformat_minor": 4
}
